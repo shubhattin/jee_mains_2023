{
 "cells": [
  {
   "cell_type": "code",
   "execution_count": null,
   "metadata": {},
   "outputs": [],
   "source": [
    "from process_data.load_data import load_data\n",
    "from process_data.get_result import (\n",
    "    get_result,\n",
    "    get_result_markdown,\n",
    "    get_questions_markdown,\n",
    "    set_template_folder\n",
    ")\n",
    "import shubhlipi as sh\n",
    "import os\n",
    "# Not using pandas as it is not suitabke to run in a microservice"
   ]
  },
  {
   "cell_type": "code",
   "execution_count": null,
   "metadata": {},
   "outputs": [],
   "source": [
    "data = load_data(\n",
    "    sh.read(\"./data/answer_key.csv\"), sh.read(\"./data/question_paper_html\")\n",
    ")\n",
    "result = get_result(data)\n",
    "\n",
    "# Deletiing the result folder\n",
    "if os.path.exists(\"./result\"):\n",
    "    sh.delete_folder(\"./result\")\n",
    "sh.makedir(\"./result\")\n",
    "\n",
    "# Saving the result\n",
    "sh.write(\"./result/result.md\", get_result_markdown(data, result))\n",
    "# Saving the questions\n",
    "sh.write(\"./result/questions.md\", get_questions_markdown(data, result))\n"
   ]
  }
 ],
 "metadata": {
  "kernelspec": {
   "display_name": ".venv",
   "language": "python",
   "name": "python3"
  },
  "language_info": {
   "codemirror_mode": {
    "name": "ipython",
    "version": 3
   },
   "file_extension": ".py",
   "mimetype": "text/x-python",
   "name": "python",
   "nbconvert_exporter": "python",
   "pygments_lexer": "ipython3",
   "version": "3.11.1"
  },
  "orig_nbformat": 4,
  "vscode": {
   "interpreter": {
    "hash": "37027f7ef54b29e5d29aa93bff90f5c2b5c4a1e048309ce3bba79a033985a656"
   }
  }
 },
 "nbformat": 4,
 "nbformat_minor": 2
}
