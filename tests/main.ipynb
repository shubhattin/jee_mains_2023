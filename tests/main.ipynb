{
 "cells": [
  {
   "cell_type": "code",
   "execution_count": 1,
   "metadata": {},
   "outputs": [],
   "source": [
    "from process_data.load_data import load_data\n",
    "from process_data.get_result import (\n",
    "    get_result,\n",
    "    get_result_markdown,\n",
    "    get_questions_markdown,\n",
    "    set_template_folder\n",
    ")\n",
    "import shubhlipi as sh\n",
    "import os\n",
    "# Not using pandas as it is not suitabke to run in a microservice"
   ]
  },
  {
   "cell_type": "code",
   "execution_count": 2,
   "metadata": {},
   "outputs": [],
   "source": [
    "a = load_data(\"./data/answer_key.csv\", \"./data/question_paper_html\")\n",
    "b = get_result(a)\n",
    "\n",
    "# Deletiing the result folder\n",
    "if os.path.exists(\"./result\"):\n",
    "    sh.delete_folder(\"./result\")\n",
    "sh.makedir(\"./result\")\n",
    "\n",
    "set_template_folder(\"../py/data\")\n",
    "# Saving the result\n",
    "sh.write('./result/result.md',get_result_markdown(a, b))\n",
    "# Saving the questions\n",
    "sh.write('./result/questions.md',get_questions_markdown(a, b))"
   ]
  }
 ],
 "metadata": {
  "kernelspec": {
   "display_name": ".venv",
   "language": "python",
   "name": "python3"
  },
  "language_info": {
   "codemirror_mode": {
    "name": "ipython",
    "version": 3
   },
   "file_extension": ".py",
   "mimetype": "text/x-python",
   "name": "python",
   "nbconvert_exporter": "python",
   "pygments_lexer": "ipython3",
   "version": "3.11.1"
  },
  "orig_nbformat": 4,
  "vscode": {
   "interpreter": {
    "hash": "37027f7ef54b29e5d29aa93bff90f5c2b5c4a1e048309ce3bba79a033985a656"
   }
  }
 },
 "nbformat": 4,
 "nbformat_minor": 2
}
