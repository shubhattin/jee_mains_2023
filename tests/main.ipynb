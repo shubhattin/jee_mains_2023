{
 "cells": [
  {
   "cell_type": "code",
   "execution_count": 21,
   "metadata": {},
   "outputs": [],
   "source": [
    "from process_data.load_data import load_data, serialize_Result_JSON\n",
    "from process_data.get_result import get_result\n",
    "import shubhlipi as sh\n",
    "import os\n",
    "import jinja2\n",
    "import dotenv\n",
    "from process_data import MainDataType, ResultDataType\n",
    "\n",
    "# Not using pandas as it is not suitabke to run in a microservice\n"
   ]
  },
  {
   "cell_type": "code",
   "execution_count": 22,
   "metadata": {},
   "outputs": [],
   "source": [
    "# Gettting Result and `data``\n",
    "data = load_data(\n",
    "    sh.read(\"./data/answer_key.csv\"), sh.read(\"./data/question_paper_html\")\n",
    ")\n",
    "result = get_result(data)\n"
   ]
  },
  {
   "cell_type": "code",
   "execution_count": 23,
   "metadata": {},
   "outputs": [],
   "source": [
    "# functions to hydrate the markdown data\n",
    "\n",
    "\n",
    "def render_jinja_temp(fl: str, **o):\n",
    "    return (\n",
    "        jinja2.Environment(loader=jinja2.FileSystemLoader(\"./template/\"))\n",
    "        .get_template(fl)\n",
    "        .render(**o)\n",
    "    )\n",
    "\n",
    "\n",
    "def get_result_markdown(data: MainDataType, result: ResultDataType) -> str:\n",
    "    # We can also pass the data as a dict or even directly as shown below\n",
    "    return render_jinja_temp(\"result_temp.md.j2\", data=data, result=result)\n",
    "\n",
    "\n",
    "def get_questions_markdown(data: MainDataType, sc: ResultDataType) -> str:\n",
    "    return render_jinja_temp(\"questions_temp.md.j2\", data=data.__dict__)\n"
   ]
  },
  {
   "cell_type": "code",
   "execution_count": 24,
   "metadata": {},
   "outputs": [],
   "source": [
    "# Deletiing the result folder\n",
    "if os.path.exists(\"./result\"):\n",
    "    sh.delete_folder(\"./result\")\n",
    "sh.makedir(\"./result\")\n",
    "\n",
    "\n",
    "# Saving the result\n",
    "sh.write(\"./result/result.md\", get_result_markdown(data, result))\n",
    "# Saving the questions\n",
    "sh.write(\"./result/questions.md\", get_questions_markdown(data, result))\n"
   ]
  },
  {
   "cell_type": "code",
   "execution_count": 25,
   "metadata": {},
   "outputs": [],
   "source": [
    "# Loading env variables\n",
    "if os.path.isfile(\"../py/.env\"):\n",
    "    dotenv.load_dotenv(\"../py/.env\")\n",
    "\n",
    "SAVE_RESULT_TO_DATABASE = False\n",
    "# The above will be true if we want to save the result and the data into the database\n",
    "# This example data will be used a sample result for the frontend\n",
    "if SAVE_RESULT_TO_DATABASE:\n",
    "    print(\"Saving to database\")\n",
    "    from deta import Deta\n",
    "\n",
    "    deta = Deta(sh.from_base64(os.getenv(\"DETA_KEY\")))\n",
    "\n",
    "    deta.Base(\"info\").put(\n",
    "        {\"name\": \"\", \"DOB\": \"\", \"date\": \"\", \"time\": \"\", \"roll\": \"\"}, \"sample_result\"\n",
    "    )\n",
    "\n",
    "    deta.Base(\"data\").put(\n",
    "        {\n",
    "            \"result\": serialize_Result_JSON(result),\n",
    "            \"data\": data.__dict__,\n",
    "        },\n",
    "        \"sample_result\",\n",
    "    )\n",
    "    print(\"Saved to database\")\n"
   ]
  }
 ],
 "metadata": {
  "kernelspec": {
   "display_name": ".venv",
   "language": "python",
   "name": "python3"
  },
  "language_info": {
   "codemirror_mode": {
    "name": "ipython",
    "version": 3
   },
   "file_extension": ".py",
   "mimetype": "text/x-python",
   "name": "python",
   "nbconvert_exporter": "python",
   "pygments_lexer": "ipython3",
   "version": "3.11.1"
  },
  "orig_nbformat": 4,
  "vscode": {
   "interpreter": {
    "hash": "37027f7ef54b29e5d29aa93bff90f5c2b5c4a1e048309ce3bba79a033985a656"
   }
  }
 },
 "nbformat": 4,
 "nbformat_minor": 2
}
