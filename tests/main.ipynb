{
 "cells": [
  {
   "cell_type": "code",
   "execution_count": null,
   "metadata": {},
   "outputs": [],
   "source": [
    "import shubhlipi as sh\n",
    "from test_data_types import MainDataType, ResultDataType, MetaDataType\n",
    "import os\n",
    "import jinja2\n",
    "import dotenv\n"
   ]
  },
  {
   "cell_type": "code",
   "execution_count": null,
   "metadata": {},
   "outputs": [],
   "source": [
    "# Clearing the output folder\n",
    "if os.path.isdir(\"../api/jee/process_data/out/\"):\n",
    "    sh.delete_folder(\"../api/jee/process_data/out/\")\n",
    "if sh.cmd(\"cd ../api/ && go run app.go test\")[0] != 0:\n",
    "    raise Exception(\"Error\")\n",
    "data = MainDataType(**sh.load_json(sh.read(\"../api/jee/process_data/out/data.json\")))\n",
    "result = ResultDataType(\n",
    "    **sh.load_json(sh.read(\"../api/jee/process_data/out/result.json\"))\n",
    ")\n",
    "\n",
    "meta_data_json = sh.load_json(sh.read(\"../api/jee/process_data/out/meta_data.json\"))\n",
    "metadata = MetaDataType(\n",
    "    ApplicationNumber=meta_data_json[\"key\"],\n",
    "    Name=meta_data_json[\"name\"],\n",
    "    RollNumber=meta_data_json[\"roll\"],\n",
    "    DOB=meta_data_json[\"DOB\"],\n",
    "    TestDate=meta_data_json[\"date\"],\n",
    "    TestTime=meta_data_json[\"time\"],\n",
    ")\n"
   ]
  },
  {
   "cell_type": "code",
   "execution_count": null,
   "metadata": {},
   "outputs": [],
   "source": [
    "# functions to hydrate the markdown data\n",
    "\n",
    "\n",
    "def render_jinja_temp(fl: str, **o):\n",
    "    return (\n",
    "        jinja2.Environment(loader=jinja2.FileSystemLoader(\"./template/\"))\n",
    "        .get_template(fl)\n",
    "        .render(**o)\n",
    "    )\n",
    "\n",
    "\n",
    "def get_result_markdown(data: MainDataType, result: ResultDataType) -> str:\n",
    "    # We can also pass the data as a dict or even directly as shown below\n",
    "    return render_jinja_temp(\n",
    "        \"result_temp.md.j2\", data=data, result=result, metadata=metadata.dict()\n",
    "    )\n",
    "\n",
    "\n",
    "def get_questions_markdown(data: MainDataType, sc: ResultDataType) -> str:\n",
    "    return render_jinja_temp(\"questions_temp.md.j2\", data=data)\n"
   ]
  },
  {
   "cell_type": "code",
   "execution_count": null,
   "metadata": {},
   "outputs": [],
   "source": [
    "# Deletiing the result folder\n",
    "if os.path.exists(\"./result\"):\n",
    "    sh.delete_folder(\"./result\")\n",
    "sh.makedir(\"./result\")\n",
    "\n",
    "\n",
    "# Saving the result\n",
    "sh.write(\"./result/result.md\", get_result_markdown(data, result))\n",
    "# Saving the questions\n",
    "sh.write(\"./result/questions.md\", get_questions_markdown(data, result))\n"
   ]
  },
  {
   "cell_type": "code",
   "execution_count": null,
   "metadata": {},
   "outputs": [],
   "source": [
    "# Loading env variables\n",
    "if os.path.isfile(\"../api/.env\"):\n",
    "    dotenv.load_dotenv(\"../api/.env\")\n",
    "\n",
    "SAVE_RESULT_TO_DATABASE = False\n",
    "# The above will be true if we want to save the result and the data into the database\n",
    "# This example data will be used a sample result for the frontend\n",
    "if SAVE_RESULT_TO_DATABASE:\n",
    "    print(\"Saving to database\")\n",
    "    from deta import Deta\n",
    "\n",
    "    deta = Deta(sh.from_base64(os.getenv(\"DETA_KEY\")))\n",
    "\n",
    "    deta.Base(\"info\").put(\n",
    "        {\"name\": \"\", \"DOB\": \"\", \"date\": \"\", \"time\": \"\", \"roll\": \"\"}, \"sample_result\"\n",
    "    )\n",
    "\n",
    "    deta.Base(\"data\").put(\n",
    "        {\n",
    "            \"result\": result.dict(),\n",
    "            \"data\": data.dict(),\n",
    "        },\n",
    "        \"sample_result\",\n",
    "    )\n",
    "    print(\"Saved to database\")\n"
   ]
  }
 ],
 "metadata": {
  "kernelspec": {
   "display_name": ".venv",
   "language": "python",
   "name": "python3"
  },
  "language_info": {
   "codemirror_mode": {
    "name": "ipython",
    "version": 3
   },
   "file_extension": ".py",
   "mimetype": "text/x-python",
   "name": "python",
   "nbconvert_exporter": "python",
   "pygments_lexer": "ipython3",
   "version": "3.10.6"
  },
  "orig_nbformat": 4,
  "vscode": {
   "interpreter": {
    "hash": "37027f7ef54b29e5d29aa93bff90f5c2b5c4a1e048309ce3bba79a033985a656"
   }
  }
 },
 "nbformat": 4,
 "nbformat_minor": 2
}
